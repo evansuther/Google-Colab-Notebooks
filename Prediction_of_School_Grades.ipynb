{
  "nbformat": 4,
  "nbformat_minor": 0,
  "metadata": {
    "colab": {
      "name": "Prediction of School Grades.ipynb",
      "provenance": [],
      "collapsed_sections": [],
      "include_colab_link": true
    },
    "kernelspec": {
      "name": "python3",
      "display_name": "Python 3"
    }
  },
  "cells": [
    {
      "cell_type": "markdown",
      "metadata": {
        "id": "view-in-github",
        "colab_type": "text"
      },
      "source": [
        "<a href=\"https://colab.research.google.com/github/evansuther/Google-Colab-Notebooks/blob/master/Prediction_of_School_Grades.ipynb\" target=\"_parent\"><img src=\"https://colab.research.google.com/assets/colab-badge.svg\" alt=\"Open In Colab\"/></a>"
      ]
    },
    {
      "cell_type": "markdown",
      "metadata": {
        "id": "3ovl50p8ECJX",
        "colab_type": "text"
      },
      "source": [
        "# Regression and Classification of Seconday School Grades\n",
        "****\n",
        "*Evan Suther*\n",
        "\n",
        "\n",
        "\n",
        "I will be using the data and modifying the methods provided by Cortez and Silva (2008). The authors found that a neural net was less optimal than a decision tree for classification. I will be sticking with a neural net because for me, this notebook will mostly be an exploration of the data pre-processing necessary for using the data in a deep neural net - and less about achieving high accuracy in classification.\n",
        "\n"
      ]
    },
    {
      "cell_type": "code",
      "metadata": {
        "id": "OY1vJTuhgYY3",
        "colab_type": "code",
        "outputId": "d2a0a985-be7c-41b2-faa4-fb549fbb8f5b",
        "colab": {
          "base_uri": "https://localhost:8080/",
          "height": 180
        }
      },
      "source": [
        "# will be used throughout notebook\n",
        "import tensorflow as tf\n",
        "from tensorflow import keras\n",
        "from tensorflow.keras import layers\n",
        "import numpy as np\n",
        "import pandas as pd\n",
        "import os\n",
        "\n",
        "# download the data\n",
        "dataset_path = keras.utils.get_file(\"student.zip\", \"https://archive.ics.uci.edu/ml/machine-learning-databases/00320/student.zip\")\n",
        "\n",
        "# unzip the data\n",
        "!unzip '$dataset_path'"
      ],
      "execution_count": 1,
      "outputs": [
        {
          "output_type": "display_data",
          "data": {
            "text/html": [
              "<p style=\"color: red;\">\n",
              "The default version of TensorFlow in Colab will soon switch to TensorFlow 2.x.<br>\n",
              "We recommend you <a href=\"https://www.tensorflow.org/guide/migrate\" target=\"_blank\">upgrade</a> now \n",
              "or ensure your notebook will continue to use TensorFlow 1.x via the <code>%tensorflow_version 1.x</code> magic:\n",
              "<a href=\"https://colab.research.google.com/notebooks/tensorflow_version.ipynb\" target=\"_blank\">more info</a>.</p>\n"
            ],
            "text/plain": [
              "<IPython.core.display.HTML object>"
            ]
          },
          "metadata": {
            "tags": []
          }
        },
        {
          "output_type": "stream",
          "text": [
            "Downloading data from https://archive.ics.uci.edu/ml/machine-learning-databases/00320/student.zip\n",
            "24576/20478 [====================================] - 0s 1us/step\n",
            "Archive:  /root/.keras/datasets/student.zip\n",
            "  inflating: student-mat.csv         \n",
            "  inflating: student-por.csv         \n",
            "  inflating: student-merge.R         \n",
            "  inflating: student.txt             \n"
          ],
          "name": "stdout"
        }
      ]
    },
    {
      "cell_type": "code",
      "metadata": {
        "id": "xRvMLigfj6oQ",
        "colab_type": "code",
        "outputId": "46549078-cfcd-49e7-ac32-0a73b83097b0",
        "colab": {
          "base_uri": "https://localhost:8080/",
          "height": 215
        }
      },
      "source": [
        "# process csv into pandas dataframe\n",
        "math_df = pd.read_csv('student-mat.csv', delimiter=';') # much cleaner call than using numpy's genfromtext\n",
        "portugese_df = pd.read_csv('student-por.csv', delimiter=\";\") \n",
        "# view the first five records\n",
        "portugese_df.head()"
      ],
      "execution_count": 2,
      "outputs": [
        {
          "output_type": "execute_result",
          "data": {
            "text/html": [
              "<div>\n",
              "<style scoped>\n",
              "    .dataframe tbody tr th:only-of-type {\n",
              "        vertical-align: middle;\n",
              "    }\n",
              "\n",
              "    .dataframe tbody tr th {\n",
              "        vertical-align: top;\n",
              "    }\n",
              "\n",
              "    .dataframe thead th {\n",
              "        text-align: right;\n",
              "    }\n",
              "</style>\n",
              "<table border=\"1\" class=\"dataframe\">\n",
              "  <thead>\n",
              "    <tr style=\"text-align: right;\">\n",
              "      <th></th>\n",
              "      <th>school</th>\n",
              "      <th>sex</th>\n",
              "      <th>age</th>\n",
              "      <th>address</th>\n",
              "      <th>famsize</th>\n",
              "      <th>Pstatus</th>\n",
              "      <th>Medu</th>\n",
              "      <th>Fedu</th>\n",
              "      <th>Mjob</th>\n",
              "      <th>Fjob</th>\n",
              "      <th>reason</th>\n",
              "      <th>guardian</th>\n",
              "      <th>traveltime</th>\n",
              "      <th>studytime</th>\n",
              "      <th>failures</th>\n",
              "      <th>schoolsup</th>\n",
              "      <th>famsup</th>\n",
              "      <th>paid</th>\n",
              "      <th>activities</th>\n",
              "      <th>nursery</th>\n",
              "      <th>higher</th>\n",
              "      <th>internet</th>\n",
              "      <th>romantic</th>\n",
              "      <th>famrel</th>\n",
              "      <th>freetime</th>\n",
              "      <th>goout</th>\n",
              "      <th>Dalc</th>\n",
              "      <th>Walc</th>\n",
              "      <th>health</th>\n",
              "      <th>absences</th>\n",
              "      <th>G1</th>\n",
              "      <th>G2</th>\n",
              "      <th>G3</th>\n",
              "    </tr>\n",
              "  </thead>\n",
              "  <tbody>\n",
              "    <tr>\n",
              "      <th>0</th>\n",
              "      <td>GP</td>\n",
              "      <td>F</td>\n",
              "      <td>18</td>\n",
              "      <td>U</td>\n",
              "      <td>GT3</td>\n",
              "      <td>A</td>\n",
              "      <td>4</td>\n",
              "      <td>4</td>\n",
              "      <td>at_home</td>\n",
              "      <td>teacher</td>\n",
              "      <td>course</td>\n",
              "      <td>mother</td>\n",
              "      <td>2</td>\n",
              "      <td>2</td>\n",
              "      <td>0</td>\n",
              "      <td>yes</td>\n",
              "      <td>no</td>\n",
              "      <td>no</td>\n",
              "      <td>no</td>\n",
              "      <td>yes</td>\n",
              "      <td>yes</td>\n",
              "      <td>no</td>\n",
              "      <td>no</td>\n",
              "      <td>4</td>\n",
              "      <td>3</td>\n",
              "      <td>4</td>\n",
              "      <td>1</td>\n",
              "      <td>1</td>\n",
              "      <td>3</td>\n",
              "      <td>4</td>\n",
              "      <td>0</td>\n",
              "      <td>11</td>\n",
              "      <td>11</td>\n",
              "    </tr>\n",
              "    <tr>\n",
              "      <th>1</th>\n",
              "      <td>GP</td>\n",
              "      <td>F</td>\n",
              "      <td>17</td>\n",
              "      <td>U</td>\n",
              "      <td>GT3</td>\n",
              "      <td>T</td>\n",
              "      <td>1</td>\n",
              "      <td>1</td>\n",
              "      <td>at_home</td>\n",
              "      <td>other</td>\n",
              "      <td>course</td>\n",
              "      <td>father</td>\n",
              "      <td>1</td>\n",
              "      <td>2</td>\n",
              "      <td>0</td>\n",
              "      <td>no</td>\n",
              "      <td>yes</td>\n",
              "      <td>no</td>\n",
              "      <td>no</td>\n",
              "      <td>no</td>\n",
              "      <td>yes</td>\n",
              "      <td>yes</td>\n",
              "      <td>no</td>\n",
              "      <td>5</td>\n",
              "      <td>3</td>\n",
              "      <td>3</td>\n",
              "      <td>1</td>\n",
              "      <td>1</td>\n",
              "      <td>3</td>\n",
              "      <td>2</td>\n",
              "      <td>9</td>\n",
              "      <td>11</td>\n",
              "      <td>11</td>\n",
              "    </tr>\n",
              "    <tr>\n",
              "      <th>2</th>\n",
              "      <td>GP</td>\n",
              "      <td>F</td>\n",
              "      <td>15</td>\n",
              "      <td>U</td>\n",
              "      <td>LE3</td>\n",
              "      <td>T</td>\n",
              "      <td>1</td>\n",
              "      <td>1</td>\n",
              "      <td>at_home</td>\n",
              "      <td>other</td>\n",
              "      <td>other</td>\n",
              "      <td>mother</td>\n",
              "      <td>1</td>\n",
              "      <td>2</td>\n",
              "      <td>0</td>\n",
              "      <td>yes</td>\n",
              "      <td>no</td>\n",
              "      <td>no</td>\n",
              "      <td>no</td>\n",
              "      <td>yes</td>\n",
              "      <td>yes</td>\n",
              "      <td>yes</td>\n",
              "      <td>no</td>\n",
              "      <td>4</td>\n",
              "      <td>3</td>\n",
              "      <td>2</td>\n",
              "      <td>2</td>\n",
              "      <td>3</td>\n",
              "      <td>3</td>\n",
              "      <td>6</td>\n",
              "      <td>12</td>\n",
              "      <td>13</td>\n",
              "      <td>12</td>\n",
              "    </tr>\n",
              "    <tr>\n",
              "      <th>3</th>\n",
              "      <td>GP</td>\n",
              "      <td>F</td>\n",
              "      <td>15</td>\n",
              "      <td>U</td>\n",
              "      <td>GT3</td>\n",
              "      <td>T</td>\n",
              "      <td>4</td>\n",
              "      <td>2</td>\n",
              "      <td>health</td>\n",
              "      <td>services</td>\n",
              "      <td>home</td>\n",
              "      <td>mother</td>\n",
              "      <td>1</td>\n",
              "      <td>3</td>\n",
              "      <td>0</td>\n",
              "      <td>no</td>\n",
              "      <td>yes</td>\n",
              "      <td>no</td>\n",
              "      <td>yes</td>\n",
              "      <td>yes</td>\n",
              "      <td>yes</td>\n",
              "      <td>yes</td>\n",
              "      <td>yes</td>\n",
              "      <td>3</td>\n",
              "      <td>2</td>\n",
              "      <td>2</td>\n",
              "      <td>1</td>\n",
              "      <td>1</td>\n",
              "      <td>5</td>\n",
              "      <td>0</td>\n",
              "      <td>14</td>\n",
              "      <td>14</td>\n",
              "      <td>14</td>\n",
              "    </tr>\n",
              "    <tr>\n",
              "      <th>4</th>\n",
              "      <td>GP</td>\n",
              "      <td>F</td>\n",
              "      <td>16</td>\n",
              "      <td>U</td>\n",
              "      <td>GT3</td>\n",
              "      <td>T</td>\n",
              "      <td>3</td>\n",
              "      <td>3</td>\n",
              "      <td>other</td>\n",
              "      <td>other</td>\n",
              "      <td>home</td>\n",
              "      <td>father</td>\n",
              "      <td>1</td>\n",
              "      <td>2</td>\n",
              "      <td>0</td>\n",
              "      <td>no</td>\n",
              "      <td>yes</td>\n",
              "      <td>no</td>\n",
              "      <td>no</td>\n",
              "      <td>yes</td>\n",
              "      <td>yes</td>\n",
              "      <td>no</td>\n",
              "      <td>no</td>\n",
              "      <td>4</td>\n",
              "      <td>3</td>\n",
              "      <td>2</td>\n",
              "      <td>1</td>\n",
              "      <td>2</td>\n",
              "      <td>5</td>\n",
              "      <td>0</td>\n",
              "      <td>11</td>\n",
              "      <td>13</td>\n",
              "      <td>13</td>\n",
              "    </tr>\n",
              "  </tbody>\n",
              "</table>\n",
              "</div>"
            ],
            "text/plain": [
              "  school sex  age address famsize Pstatus  ...  Walc  health absences  G1  G2  G3\n",
              "0     GP   F   18       U     GT3       A  ...     1       3        4   0  11  11\n",
              "1     GP   F   17       U     GT3       T  ...     1       3        2   9  11  11\n",
              "2     GP   F   15       U     LE3       T  ...     3       3        6  12  13  12\n",
              "3     GP   F   15       U     GT3       T  ...     1       5        0  14  14  14\n",
              "4     GP   F   16       U     GT3       T  ...     2       5        0  11  13  13\n",
              "\n",
              "[5 rows x 33 columns]"
            ]
          },
          "metadata": {
            "tags": []
          },
          "execution_count": 2
        }
      ]
    },
    {
      "cell_type": "markdown",
      "metadata": {
        "id": "zfqIsFP1zBQa",
        "colab_type": "text"
      },
      "source": [
        "Quite a few nominal data columns in this data set. Additionally, we have binary columns such as school, sex, schoolsup etc. "
      ]
    },
    {
      "cell_type": "code",
      "metadata": {
        "id": "pQz8XN9ZqVXo",
        "colab_type": "code",
        "outputId": "756ff862-471c-4681-bf29-8c981a3cff4b",
        "colab": {
          "base_uri": "https://localhost:8080/",
          "height": 34
        }
      },
      "source": [
        "# testing/playing with some pandas tools\n",
        "active_kids = portugese_df.loc[portugese_df['activities'] == 'yes']\n",
        "active_kids['G3'].mean()"
      ],
      "execution_count": 4,
      "outputs": [
        {
          "output_type": "execute_result",
          "data": {
            "text/plain": [
              "12.104761904761904"
            ]
          },
          "metadata": {
            "tags": []
          },
          "execution_count": 4
        }
      ]
    },
    {
      "cell_type": "markdown",
      "metadata": {
        "id": "Qq3jt8ikXO2A",
        "colab_type": "text"
      },
      "source": [
        "## Narrowing the columns to the objective ones to be one-hot encoded\n",
        "\n",
        "First, I encode the binary columns based on the information provided by Cortez and Silva. "
      ]
    },
    {
      "cell_type": "code",
      "metadata": {
        "id": "NZMuVjaEPaxt",
        "colab_type": "code",
        "colab": {}
      },
      "source": [
        "# Making manual encodings for binary values from the questionnairre \n",
        "binary_vals = {\n",
        "    \"school\":{\"GP\": 0, \"MS\" : 1}, # not sure if school or sex should be kept as columns\n",
        "    \"sex\":{\"F\": 0, \"M\": 1},       # even less sure if they should be made binaries\n",
        "    \"address\":{\"U\": 0, \"R\": 1},\n",
        "    \"famsize\":{\"LE3\": 0, \"GT3\": 1},\n",
        "    \"Pstatus\":{\"A\": 0, \"T\": 1},\n",
        "    \"schoolsup\":{\"no\": 0, \"yes\": 1},\n",
        "    \"famsup\":{\"no\": 0, \"yes\": 1},\n",
        "    \"activities\":{\"no\": 0, \"yes\": 1},\n",
        "    \"nursery\":{\"no\": 0, \"yes\": 1},\n",
        "    \"paid\":{\"no\": 0, \"yes\": 1},\n",
        "    \"internet\":{\"no\": 0, \"yes\": 1},\n",
        "    \"romantic\":{\"no\": 0, \"yes\": 1},\n",
        "    \"higher\":{\"no\": 0, \"yes\": 1}\n",
        "}\n",
        "portugese_df.replace(binary_vals, inplace=True)\n",
        "math_df.replace(binary_vals, inplace=True)"
      ],
      "execution_count": 0,
      "outputs": []
    },
    {
      "cell_type": "markdown",
      "metadata": {
        "id": "BSR6m6EnLaMp",
        "colab_type": "text"
      },
      "source": [
        "Next, I select the remaining objective columns"
      ]
    },
    {
      "cell_type": "code",
      "metadata": {
        "id": "OhQHfvNC_WPf",
        "colab_type": "code",
        "outputId": "3500dd7d-a374-4ecf-e5c5-1563ad211e3c",
        "colab": {
          "base_uri": "https://localhost:8080/",
          "height": 588
        }
      },
      "source": [
        "portugese_df.dtypes # lets see which columns are left to be encoded"
      ],
      "execution_count": 6,
      "outputs": [
        {
          "output_type": "execute_result",
          "data": {
            "text/plain": [
              "school         int64\n",
              "sex            int64\n",
              "age            int64\n",
              "address        int64\n",
              "famsize        int64\n",
              "Pstatus        int64\n",
              "Medu           int64\n",
              "Fedu           int64\n",
              "Mjob          object\n",
              "Fjob          object\n",
              "reason        object\n",
              "guardian      object\n",
              "traveltime     int64\n",
              "studytime      int64\n",
              "failures       int64\n",
              "schoolsup      int64\n",
              "famsup         int64\n",
              "paid           int64\n",
              "activities     int64\n",
              "nursery        int64\n",
              "higher         int64\n",
              "internet       int64\n",
              "romantic       int64\n",
              "famrel         int64\n",
              "freetime       int64\n",
              "goout          int64\n",
              "Dalc           int64\n",
              "Walc           int64\n",
              "health         int64\n",
              "absences       int64\n",
              "G1             int64\n",
              "G2             int64\n",
              "G3             int64\n",
              "dtype: object"
            ]
          },
          "metadata": {
            "tags": []
          },
          "execution_count": 6
        }
      ]
    },
    {
      "cell_type": "code",
      "metadata": {
        "id": "qIaptzRNLUDY",
        "colab_type": "code",
        "colab": {
          "base_uri": "https://localhost:8080/",
          "height": 77
        },
        "outputId": "8488c1cc-c115-4608-bf7b-6e1890c98a1b"
      },
      "source": [
        "# I will be using portugese_df because it's larger, I will not be merging the datasets \n",
        "# because I don't know if there is any overlap between the two sets(students who answered both questionnaires) \n",
        "objective_cols = portugese_df.select_dtypes(include='object')\n",
        "\n",
        "# a quick check of which columns we got, and the data that came with\n",
        "objective_cols[:1]"
      ],
      "execution_count": 7,
      "outputs": [
        {
          "output_type": "execute_result",
          "data": {
            "text/html": [
              "<div>\n",
              "<style scoped>\n",
              "    .dataframe tbody tr th:only-of-type {\n",
              "        vertical-align: middle;\n",
              "    }\n",
              "\n",
              "    .dataframe tbody tr th {\n",
              "        vertical-align: top;\n",
              "    }\n",
              "\n",
              "    .dataframe thead th {\n",
              "        text-align: right;\n",
              "    }\n",
              "</style>\n",
              "<table border=\"1\" class=\"dataframe\">\n",
              "  <thead>\n",
              "    <tr style=\"text-align: right;\">\n",
              "      <th></th>\n",
              "      <th>Mjob</th>\n",
              "      <th>Fjob</th>\n",
              "      <th>reason</th>\n",
              "      <th>guardian</th>\n",
              "    </tr>\n",
              "  </thead>\n",
              "  <tbody>\n",
              "    <tr>\n",
              "      <th>0</th>\n",
              "      <td>at_home</td>\n",
              "      <td>teacher</td>\n",
              "      <td>course</td>\n",
              "      <td>mother</td>\n",
              "    </tr>\n",
              "  </tbody>\n",
              "</table>\n",
              "</div>"
            ],
            "text/plain": [
              "      Mjob     Fjob  reason guardian\n",
              "0  at_home  teacher  course   mother"
            ]
          },
          "metadata": {
            "tags": []
          },
          "execution_count": 7
        }
      ]
    },
    {
      "cell_type": "markdown",
      "metadata": {
        "id": "kjCCiX9lLtMd",
        "colab_type": "text"
      },
      "source": [
        "Finally, I one-hot encode the objective columns."
      ]
    },
    {
      "cell_type": "code",
      "metadata": {
        "id": "UzzfyV6CXv14",
        "colab_type": "code",
        "outputId": "aaaae44b-7261-42b1-f55e-038de1f15f50",
        "colab": {
          "base_uri": "https://localhost:8080/",
          "height": 97
        }
      },
      "source": [
        "# now I use pandas handy list shortcut to get the names of the columns containing objective data\n",
        "obj_cols = list(objective_cols)\n",
        "# get_dummies does one-hot encoding for us\n",
        "encoded_obj_cols = pd.get_dummies(data=portugese_df, columns=obj_cols)\n",
        "# a quick look at a changed entry\n",
        "encoded_obj_cols[:1]"
      ],
      "execution_count": 8,
      "outputs": [
        {
          "output_type": "execute_result",
          "data": {
            "text/html": [
              "<div>\n",
              "<style scoped>\n",
              "    .dataframe tbody tr th:only-of-type {\n",
              "        vertical-align: middle;\n",
              "    }\n",
              "\n",
              "    .dataframe tbody tr th {\n",
              "        vertical-align: top;\n",
              "    }\n",
              "\n",
              "    .dataframe thead th {\n",
              "        text-align: right;\n",
              "    }\n",
              "</style>\n",
              "<table border=\"1\" class=\"dataframe\">\n",
              "  <thead>\n",
              "    <tr style=\"text-align: right;\">\n",
              "      <th></th>\n",
              "      <th>school</th>\n",
              "      <th>sex</th>\n",
              "      <th>age</th>\n",
              "      <th>address</th>\n",
              "      <th>famsize</th>\n",
              "      <th>Pstatus</th>\n",
              "      <th>Medu</th>\n",
              "      <th>Fedu</th>\n",
              "      <th>traveltime</th>\n",
              "      <th>studytime</th>\n",
              "      <th>failures</th>\n",
              "      <th>schoolsup</th>\n",
              "      <th>famsup</th>\n",
              "      <th>paid</th>\n",
              "      <th>activities</th>\n",
              "      <th>nursery</th>\n",
              "      <th>higher</th>\n",
              "      <th>internet</th>\n",
              "      <th>romantic</th>\n",
              "      <th>famrel</th>\n",
              "      <th>freetime</th>\n",
              "      <th>goout</th>\n",
              "      <th>Dalc</th>\n",
              "      <th>Walc</th>\n",
              "      <th>health</th>\n",
              "      <th>absences</th>\n",
              "      <th>G1</th>\n",
              "      <th>G2</th>\n",
              "      <th>G3</th>\n",
              "      <th>Mjob_at_home</th>\n",
              "      <th>Mjob_health</th>\n",
              "      <th>Mjob_other</th>\n",
              "      <th>Mjob_services</th>\n",
              "      <th>Mjob_teacher</th>\n",
              "      <th>Fjob_at_home</th>\n",
              "      <th>Fjob_health</th>\n",
              "      <th>Fjob_other</th>\n",
              "      <th>Fjob_services</th>\n",
              "      <th>Fjob_teacher</th>\n",
              "      <th>reason_course</th>\n",
              "      <th>reason_home</th>\n",
              "      <th>reason_other</th>\n",
              "      <th>reason_reputation</th>\n",
              "      <th>guardian_father</th>\n",
              "      <th>guardian_mother</th>\n",
              "      <th>guardian_other</th>\n",
              "    </tr>\n",
              "  </thead>\n",
              "  <tbody>\n",
              "    <tr>\n",
              "      <th>0</th>\n",
              "      <td>0</td>\n",
              "      <td>0</td>\n",
              "      <td>18</td>\n",
              "      <td>0</td>\n",
              "      <td>1</td>\n",
              "      <td>0</td>\n",
              "      <td>4</td>\n",
              "      <td>4</td>\n",
              "      <td>2</td>\n",
              "      <td>2</td>\n",
              "      <td>0</td>\n",
              "      <td>1</td>\n",
              "      <td>0</td>\n",
              "      <td>0</td>\n",
              "      <td>0</td>\n",
              "      <td>1</td>\n",
              "      <td>1</td>\n",
              "      <td>0</td>\n",
              "      <td>0</td>\n",
              "      <td>4</td>\n",
              "      <td>3</td>\n",
              "      <td>4</td>\n",
              "      <td>1</td>\n",
              "      <td>1</td>\n",
              "      <td>3</td>\n",
              "      <td>4</td>\n",
              "      <td>0</td>\n",
              "      <td>11</td>\n",
              "      <td>11</td>\n",
              "      <td>1</td>\n",
              "      <td>0</td>\n",
              "      <td>0</td>\n",
              "      <td>0</td>\n",
              "      <td>0</td>\n",
              "      <td>0</td>\n",
              "      <td>0</td>\n",
              "      <td>0</td>\n",
              "      <td>0</td>\n",
              "      <td>1</td>\n",
              "      <td>1</td>\n",
              "      <td>0</td>\n",
              "      <td>0</td>\n",
              "      <td>0</td>\n",
              "      <td>0</td>\n",
              "      <td>1</td>\n",
              "      <td>0</td>\n",
              "    </tr>\n",
              "  </tbody>\n",
              "</table>\n",
              "</div>"
            ],
            "text/plain": [
              "   school  sex  age  ...  guardian_father  guardian_mother  guardian_other\n",
              "0       0    0   18  ...                0                1               0\n",
              "\n",
              "[1 rows x 46 columns]"
            ]
          },
          "metadata": {
            "tags": []
          },
          "execution_count": 8
        }
      ]
    },
    {
      "cell_type": "markdown",
      "metadata": {
        "id": "vSzcE9igUOSc",
        "colab_type": "text"
      },
      "source": [
        "Now the objective columns have been one-hot encoded, and I display the first row to display this change"
      ]
    },
    {
      "cell_type": "markdown",
      "metadata": {
        "id": "zDyvJWo3zmHD",
        "colab_type": "text"
      },
      "source": [
        "## Training a model to predict the grade of students based on their answers to the questionnaire"
      ]
    },
    {
      "cell_type": "markdown",
      "metadata": {
        "id": "mPIXt7JiMMrh",
        "colab_type": "text"
      },
      "source": [
        "I will be training the model to predict final grade outcomes based on only the questionnaire answers. This means first, I have to remove the grades from the data set."
      ]
    },
    {
      "cell_type": "code",
      "metadata": {
        "id": "DG56hPTi0f7t",
        "colab_type": "code",
        "colab": {
          "base_uri": "https://localhost:8080/",
          "height": 34
        },
        "outputId": "0f5a44f6-7c76-49e8-e269-59081509cab1"
      },
      "source": [
        "# create labels, G3 represents the final grade of the student\n",
        "g3_labels = encoded_obj_cols['G3']\n",
        "# Portugese grading is on a scale of 0-20, 10 is passing\n",
        "passing = g3_labels.apply(lambda x: 1 if x >= 10 else 0)  \n",
        "# remove labels and previous evaluations from data\n",
        "x_no_grades = encoded_obj_cols.drop(columns=['G1', 'G2', 'G3'])\n",
        "x_no_grades.shape"
      ],
      "execution_count": 9,
      "outputs": [
        {
          "output_type": "execute_result",
          "data": {
            "text/plain": [
              "(649, 43)"
            ]
          },
          "metadata": {
            "tags": []
          },
          "execution_count": 9
        }
      ]
    },
    {
      "cell_type": "markdown",
      "metadata": {
        "id": "xR5jVN2vAfRn",
        "colab_type": "text"
      },
      "source": [
        "#### Split data into train and test sets"
      ]
    },
    {
      "cell_type": "code",
      "metadata": {
        "id": "CsKm0a9iAF6h",
        "colab_type": "code",
        "colab": {
          "base_uri": "https://localhost:8080/",
          "height": 34
        },
        "outputId": "4f23c785-1892-4272-84c7-0bdf5205e6a5"
      },
      "source": [
        "from sklearn.model_selection import train_test_split\n",
        "X_train, X_test, Y_train, Y_test = train_test_split(x_no_grades, passing, test_size=0.2, random_state=42)\n",
        "X_train.shape"
      ],
      "execution_count": 11,
      "outputs": [
        {
          "output_type": "execute_result",
          "data": {
            "text/plain": [
              "(519, 43)"
            ]
          },
          "metadata": {
            "tags": []
          },
          "execution_count": 11
        }
      ]
    },
    {
      "cell_type": "markdown",
      "metadata": {
        "id": "y4j36uUYBYQJ",
        "colab_type": "text"
      },
      "source": [
        "#### Build a Model"
      ]
    },
    {
      "cell_type": "code",
      "metadata": {
        "id": "sBvleWUdZ0vd",
        "colab_type": "code",
        "colab": {
          "base_uri": "https://localhost:8080/",
          "height": 406
        },
        "outputId": "107897d3-e331-4083-d31c-8c2caec27dd1"
      },
      "source": [
        "model = keras.Sequential()\n",
        "\n",
        "Dense = keras.layers.Dense\n",
        "\n",
        "model.add(Dense(30,input_shape=(43,), activation = \"relu\"))\n",
        "\n",
        "model.add(Dense(15, activation = \"relu\"))\n",
        "\n",
        "model.add(Dense(5, activation = \"relu\"))\n",
        "\n",
        "model.add(Dense(1, activation = \"sigmoid\"))\n",
        "\n",
        "model.compile(optimizer = keras.optimizers.RMSprop(),\n",
        "              loss = \"binary_crossentropy\",\n",
        "              metrics=['accuracy'])\n",
        "\n",
        "model.summary()"
      ],
      "execution_count": 12,
      "outputs": [
        {
          "output_type": "stream",
          "text": [
            "WARNING:tensorflow:From /usr/local/lib/python3.6/dist-packages/tensorflow_core/python/ops/resource_variable_ops.py:1630: calling BaseResourceVariable.__init__ (from tensorflow.python.ops.resource_variable_ops) with constraint is deprecated and will be removed in a future version.\n",
            "Instructions for updating:\n",
            "If using Keras pass *_constraint arguments to layers.\n",
            "WARNING:tensorflow:From /usr/local/lib/python3.6/dist-packages/tensorflow_core/python/ops/nn_impl.py:183: where (from tensorflow.python.ops.array_ops) is deprecated and will be removed in a future version.\n",
            "Instructions for updating:\n",
            "Use tf.where in 2.0, which has the same broadcast rule as np.where\n",
            "Model: \"sequential\"\n",
            "_________________________________________________________________\n",
            "Layer (type)                 Output Shape              Param #   \n",
            "=================================================================\n",
            "dense (Dense)                (None, 30)                1320      \n",
            "_________________________________________________________________\n",
            "dense_1 (Dense)              (None, 15)                465       \n",
            "_________________________________________________________________\n",
            "dense_2 (Dense)              (None, 5)                 80        \n",
            "_________________________________________________________________\n",
            "dense_3 (Dense)              (None, 1)                 6         \n",
            "=================================================================\n",
            "Total params: 1,871\n",
            "Trainable params: 1,871\n",
            "Non-trainable params: 0\n",
            "_________________________________________________________________\n"
          ],
          "name": "stdout"
        }
      ]
    },
    {
      "cell_type": "markdown",
      "metadata": {
        "id": "NyS3eTjuBeZL",
        "colab_type": "text"
      },
      "source": [
        "#### Train the model"
      ]
    },
    {
      "cell_type": "code",
      "metadata": {
        "id": "Zzw_EqmffCfb",
        "colab_type": "code",
        "colab": {
          "base_uri": "https://localhost:8080/",
          "height": 1000
        },
        "outputId": "15787cd1-0c02-4ab9-d6be-17831d24180c"
      },
      "source": [
        "# Train the model, iterating on the data in batches of 32 samples\n",
        "history = model.fit(X_train, Y_train,\n",
        "                    batch_size= 20,\n",
        "                    validation_split=0.2,  \n",
        "                    epochs = 50, \n",
        "                    )\n",
        "\n",
        "# Evaluate the model's performance\n",
        "train_loss, train_acc = model.evaluate(X_train, Y_train)\n",
        "test_loss, test_acc = model.evaluate(X_test, Y_test)\n",
        "\n",
        "print('Training set accuracy:', train_acc)\n",
        "print('Test set accuracy:', test_acc)"
      ],
      "execution_count": 13,
      "outputs": [
        {
          "output_type": "stream",
          "text": [
            "Train on 415 samples, validate on 104 samples\n",
            "Epoch 1/50\n",
            "415/415 [==============================] - 0s 1ms/sample - loss: 0.4811 - acc: 0.8265 - val_loss: 0.3843 - val_acc: 0.8750\n",
            "Epoch 2/50\n",
            "415/415 [==============================] - 0s 97us/sample - loss: 0.4526 - acc: 0.8265 - val_loss: 0.3761 - val_acc: 0.8750\n",
            "Epoch 3/50\n",
            "415/415 [==============================] - 0s 91us/sample - loss: 0.4324 - acc: 0.8265 - val_loss: 0.3569 - val_acc: 0.8750\n",
            "Epoch 4/50\n",
            "415/415 [==============================] - 0s 93us/sample - loss: 0.4286 - acc: 0.8265 - val_loss: 0.3525 - val_acc: 0.8750\n",
            "Epoch 5/50\n",
            "415/415 [==============================] - 0s 93us/sample - loss: 0.4153 - acc: 0.8265 - val_loss: 0.3433 - val_acc: 0.8750\n",
            "Epoch 6/50\n",
            "415/415 [==============================] - 0s 104us/sample - loss: 0.4056 - acc: 0.8265 - val_loss: 0.3540 - val_acc: 0.8750\n",
            "Epoch 7/50\n",
            "415/415 [==============================] - 0s 97us/sample - loss: 0.4014 - acc: 0.8217 - val_loss: 0.3402 - val_acc: 0.8750\n",
            "Epoch 8/50\n",
            "415/415 [==============================] - 0s 93us/sample - loss: 0.3883 - acc: 0.8265 - val_loss: 0.3526 - val_acc: 0.8558\n",
            "Epoch 9/50\n",
            "415/415 [==============================] - 0s 97us/sample - loss: 0.3825 - acc: 0.8337 - val_loss: 0.3233 - val_acc: 0.8654\n",
            "Epoch 10/50\n",
            "415/415 [==============================] - 0s 87us/sample - loss: 0.3744 - acc: 0.8289 - val_loss: 0.3196 - val_acc: 0.8750\n",
            "Epoch 11/50\n",
            "415/415 [==============================] - 0s 90us/sample - loss: 0.3719 - acc: 0.8434 - val_loss: 0.3207 - val_acc: 0.8558\n",
            "Epoch 12/50\n",
            "415/415 [==============================] - 0s 94us/sample - loss: 0.3641 - acc: 0.8482 - val_loss: 0.3147 - val_acc: 0.8558\n",
            "Epoch 13/50\n",
            "415/415 [==============================] - 0s 91us/sample - loss: 0.3585 - acc: 0.8386 - val_loss: 0.3092 - val_acc: 0.8558\n",
            "Epoch 14/50\n",
            "415/415 [==============================] - 0s 93us/sample - loss: 0.3499 - acc: 0.8458 - val_loss: 0.3089 - val_acc: 0.8558\n",
            "Epoch 15/50\n",
            "415/415 [==============================] - 0s 88us/sample - loss: 0.3501 - acc: 0.8410 - val_loss: 0.3051 - val_acc: 0.8558\n",
            "Epoch 16/50\n",
            "415/415 [==============================] - 0s 91us/sample - loss: 0.3410 - acc: 0.8506 - val_loss: 0.3006 - val_acc: 0.8558\n",
            "Epoch 17/50\n",
            "415/415 [==============================] - 0s 103us/sample - loss: 0.3357 - acc: 0.8410 - val_loss: 0.3127 - val_acc: 0.8750\n",
            "Epoch 18/50\n",
            "415/415 [==============================] - 0s 97us/sample - loss: 0.3292 - acc: 0.8458 - val_loss: 0.2999 - val_acc: 0.8558\n",
            "Epoch 19/50\n",
            "415/415 [==============================] - 0s 95us/sample - loss: 0.3317 - acc: 0.8530 - val_loss: 0.2960 - val_acc: 0.8558\n",
            "Epoch 20/50\n",
            "415/415 [==============================] - 0s 96us/sample - loss: 0.3275 - acc: 0.8482 - val_loss: 0.3018 - val_acc: 0.8654\n",
            "Epoch 21/50\n",
            "415/415 [==============================] - 0s 97us/sample - loss: 0.3205 - acc: 0.8602 - val_loss: 0.2960 - val_acc: 0.8462\n",
            "Epoch 22/50\n",
            "415/415 [==============================] - 0s 103us/sample - loss: 0.3208 - acc: 0.8554 - val_loss: 0.2948 - val_acc: 0.8462\n",
            "Epoch 23/50\n",
            "415/415 [==============================] - 0s 103us/sample - loss: 0.3190 - acc: 0.8578 - val_loss: 0.2938 - val_acc: 0.8654\n",
            "Epoch 24/50\n",
            "415/415 [==============================] - 0s 114us/sample - loss: 0.3128 - acc: 0.8627 - val_loss: 0.3139 - val_acc: 0.8654\n",
            "Epoch 25/50\n",
            "415/415 [==============================] - 0s 104us/sample - loss: 0.3092 - acc: 0.8578 - val_loss: 0.2935 - val_acc: 0.8654\n",
            "Epoch 26/50\n",
            "415/415 [==============================] - 0s 83us/sample - loss: 0.3100 - acc: 0.8651 - val_loss: 0.2917 - val_acc: 0.8654\n",
            "Epoch 27/50\n",
            "415/415 [==============================] - 0s 88us/sample - loss: 0.3076 - acc: 0.8554 - val_loss: 0.2921 - val_acc: 0.8654\n",
            "Epoch 28/50\n",
            "415/415 [==============================] - 0s 89us/sample - loss: 0.2988 - acc: 0.8651 - val_loss: 0.3006 - val_acc: 0.8750\n",
            "Epoch 29/50\n",
            "415/415 [==============================] - 0s 93us/sample - loss: 0.3018 - acc: 0.8675 - val_loss: 0.2916 - val_acc: 0.8750\n",
            "Epoch 30/50\n",
            "415/415 [==============================] - 0s 87us/sample - loss: 0.2970 - acc: 0.8771 - val_loss: 0.3079 - val_acc: 0.8654\n",
            "Epoch 31/50\n",
            "415/415 [==============================] - 0s 93us/sample - loss: 0.2908 - acc: 0.8723 - val_loss: 0.2981 - val_acc: 0.8654\n",
            "Epoch 32/50\n",
            "415/415 [==============================] - 0s 89us/sample - loss: 0.2927 - acc: 0.8747 - val_loss: 0.2986 - val_acc: 0.8654\n",
            "Epoch 33/50\n",
            "415/415 [==============================] - 0s 97us/sample - loss: 0.2880 - acc: 0.8699 - val_loss: 0.2941 - val_acc: 0.8654\n",
            "Epoch 34/50\n",
            "415/415 [==============================] - 0s 102us/sample - loss: 0.2853 - acc: 0.8651 - val_loss: 0.2952 - val_acc: 0.8750\n",
            "Epoch 35/50\n",
            "415/415 [==============================] - 0s 88us/sample - loss: 0.2798 - acc: 0.8892 - val_loss: 0.3182 - val_acc: 0.8558\n",
            "Epoch 36/50\n",
            "415/415 [==============================] - 0s 103us/sample - loss: 0.2893 - acc: 0.8675 - val_loss: 0.2913 - val_acc: 0.8750\n",
            "Epoch 37/50\n",
            "415/415 [==============================] - 0s 103us/sample - loss: 0.2832 - acc: 0.8699 - val_loss: 0.2897 - val_acc: 0.8750\n",
            "Epoch 38/50\n",
            "415/415 [==============================] - 0s 104us/sample - loss: 0.2792 - acc: 0.8795 - val_loss: 0.2935 - val_acc: 0.8654\n",
            "Epoch 39/50\n",
            "415/415 [==============================] - 0s 90us/sample - loss: 0.2771 - acc: 0.8747 - val_loss: 0.2930 - val_acc: 0.8750\n",
            "Epoch 40/50\n",
            "415/415 [==============================] - 0s 90us/sample - loss: 0.2750 - acc: 0.8747 - val_loss: 0.2955 - val_acc: 0.8558\n",
            "Epoch 41/50\n",
            "415/415 [==============================] - 0s 93us/sample - loss: 0.2696 - acc: 0.8747 - val_loss: 0.2952 - val_acc: 0.8846\n",
            "Epoch 42/50\n",
            "415/415 [==============================] - 0s 105us/sample - loss: 0.2658 - acc: 0.8940 - val_loss: 0.2917 - val_acc: 0.8654\n",
            "Epoch 43/50\n",
            "415/415 [==============================] - 0s 96us/sample - loss: 0.2712 - acc: 0.8819 - val_loss: 0.2883 - val_acc: 0.8750\n",
            "Epoch 44/50\n",
            "415/415 [==============================] - 0s 89us/sample - loss: 0.2646 - acc: 0.8916 - val_loss: 0.2984 - val_acc: 0.8654\n",
            "Epoch 45/50\n",
            "415/415 [==============================] - 0s 89us/sample - loss: 0.2680 - acc: 0.8964 - val_loss: 0.2896 - val_acc: 0.8654\n",
            "Epoch 46/50\n",
            "415/415 [==============================] - 0s 87us/sample - loss: 0.2594 - acc: 0.8892 - val_loss: 0.2896 - val_acc: 0.8654\n",
            "Epoch 47/50\n",
            "415/415 [==============================] - 0s 91us/sample - loss: 0.2591 - acc: 0.8795 - val_loss: 0.2914 - val_acc: 0.8750\n",
            "Epoch 48/50\n",
            "415/415 [==============================] - 0s 92us/sample - loss: 0.2529 - acc: 0.8867 - val_loss: 0.3108 - val_acc: 0.8654\n",
            "Epoch 49/50\n",
            "415/415 [==============================] - 0s 85us/sample - loss: 0.2509 - acc: 0.8940 - val_loss: 0.2909 - val_acc: 0.8750\n",
            "Epoch 50/50\n",
            "415/415 [==============================] - 0s 89us/sample - loss: 0.2522 - acc: 0.8867 - val_loss: 0.2905 - val_acc: 0.8750\n",
            "519/519 [==============================] - 0s 27us/sample - loss: 0.2515 - acc: 0.9037\n",
            "130/130 [==============================] - 0s 61us/sample - loss: 0.3578 - acc: 0.8769\n",
            "Training set accuracy: 0.9036609\n",
            "Test set accuracy: 0.8769231\n"
          ],
          "name": "stdout"
        }
      ]
    },
    {
      "cell_type": "code",
      "metadata": {
        "id": "3iSKkt48myY2",
        "colab_type": "code",
        "colab": {
          "base_uri": "https://localhost:8080/",
          "height": 573
        },
        "outputId": "93066058-cec5-4701-ff74-2470d55850da"
      },
      "source": [
        "import matplotlib.pyplot as plt\n",
        "# The history of our accuracy during training.\n",
        "plt.plot(history.history['acc'])\n",
        "plt.plot(history.history['val_acc'])\n",
        "plt.title('Model Accuracy')\n",
        "plt.ylabel('Accuracy')\n",
        "plt.xlabel('Number of epochs')\n",
        "plt.legend(['train', 'test'], loc='upper left')\n",
        "plt.show()\n",
        "# The history of our cross-entropy loss during training.\n",
        "plt.plot(history.history['loss'])\n",
        "plt.plot(history.history['val_loss'])\n",
        "plt.title('Model Loss')\n",
        "plt.ylabel('Loss')\n",
        "plt.xlabel('Number of epochs')\n",
        "plt.legend(['train', 'test'], loc='upper right')\n",
        "plt.show()"
      ],
      "execution_count": 14,
      "outputs": [
        {
          "output_type": "display_data",
          "data": {
            "image/png": "[encoded data removed]",
            "text/plain": [
              "<Figure size 432x288 with 1 Axes>"
            ]
          },
          "metadata": {
            "tags": []
          }
        },
        {
          "output_type": "display_data",
          "data": {
            "image/png": "[encoded data removed]",
            "text/plain": [
              "<Figure size 432x288 with 1 Axes>"
            ]
          },
          "metadata": {
            "tags": []
          }
        }
      ]
    },
    {
      "cell_type": "markdown",
      "metadata": {
        "id": "NMY92iOVxDOF",
        "colab_type": "text"
      },
      "source": [
        "The above plots show slight overfitting to the training set. I tuned the epochs spent training to account for this issue."
      ]
    },
    {
      "cell_type": "markdown",
      "metadata": {
        "id": "FSn9g691ougT",
        "colab_type": "text"
      },
      "source": [
        "# Results\n",
        "\n",
        "A simple neural net can predict whether a student will pass Portugese class with 87.6% accuracy using encoded answers from a questionnaire. The input configuration that my model was trained on mirrored Cortez and Silva's setup C, which means the input included no other/prior evaluations from the school term. My neural net ended up being slightly more accurate than Cortez and Silva's - who achieved 83.4% accuracy with the same input setup (Table 3, Cortez and Silva). I attribute this improvement to the difference in loss functions and improved optimization techniques. The purpose of this project for me was learning about one-hot encoding and data-prepocessing, not outdoing the researchers who provided this data."
      ]
    },
    {
      "cell_type": "markdown",
      "metadata": {
        "id": "JkC038-2gOzv",
        "colab_type": "text"
      },
      "source": [
        "# Acknowledgements\n",
        "\n",
        "P. Cortez and A. Silva. Using Data Mining to Predict Secondary School Student Performance. In A. Brito and J. Teixeira Eds., Proceedings of 5th FUture BUsiness TEChnology Conference (FUBUTEC 2008) pp. 5-12, Porto, Portugal, April, 2008, EUROSIS, ISBN 978-9077381-39-7. \n",
        " "
      ]
    }
  ]
}